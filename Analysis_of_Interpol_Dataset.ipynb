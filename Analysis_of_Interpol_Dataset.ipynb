{
  "nbformat": 4,
  "nbformat_minor": 0,
  "metadata": {
    "colab": {
      "name": "Analysis of Interpol Dataset.ipynb",
      "provenance": [],
      "include_colab_link": true
    },
    "kernelspec": {
      "name": "python3",
      "display_name": "Python 3"
    }
  },
  "cells": [
    {
      "cell_type": "markdown",
      "metadata": {
        "id": "view-in-github",
        "colab_type": "text"
      },
      "source": [
        "<a href=\"https://colab.research.google.com/github/yahyalito/Analysis-of-Interpol-Dataset/blob/master/Analysis_of_Interpol_Dataset.ipynb\" target=\"_parent\"><img src=\"https://colab.research.google.com/assets/colab-badge.svg\" alt=\"Open In Colab\"/></a>"
      ]
    },
    {
      "cell_type": "markdown",
      "metadata": {
        "id": "UVbg6ho2y3zz",
        "colab_type": "text"
      },
      "source": [
        ""
      ]
    },
    {
      "cell_type": "markdown",
      "metadata": {
        "id": "sXKY6SVNy7AO",
        "colab_type": "text"
      },
      "source": [
        "Dataset https://bit.ly/InterpolDataset"
      ]
    },
    {
      "cell_type": "code",
      "metadata": {
        "id": "aMiJtRphyVxS",
        "colab_type": "code",
        "colab": {
          "base_uri": "https://localhost:8080/",
          "height": 34
        },
        "outputId": "e3ccac12-c365-4c48-f2cf-3d4bab4c277d"
      },
      "source": [
        "# We will first load the sql extension into our environment\n",
        "#\n",
        "%load_ext sql\n",
        "\n",
        "# Then connect to our in memory sqlite database\n",
        "# NB: This database will cease to exist as soon as the database connection is closed\n",
        "#\n",
        "%sql sqlite://"
      ],
      "execution_count": 1,
      "outputs": [
        {
          "output_type": "execute_result",
          "data": {
            "text/plain": [
              "'Connected: @None'"
            ]
          },
          "metadata": {
            "tags": []
          },
          "execution_count": 1
        }
      ]
    },
    {
      "cell_type": "code",
      "metadata": {
        "id": "Wfh4z0fJykJE",
        "colab_type": "code",
        "colab": {}
      },
      "source": [
        "# Importing the python libraries that we will need in this notebook\n",
        "#\n",
        "import csv\n",
        "import pandas as pd"
      ],
      "execution_count": 0,
      "outputs": []
    },
    {
      "cell_type": "code",
      "metadata": {
        "id": "ICJctVyCzAPW",
        "colab_type": "code",
        "colab": {}
      },
      "source": [
        "# Loading the table from a local CSV file\n",
        "#\n",
        "with open('Countries.csv','r') as f:\n",
        "    Interpol = pd.read_csv(f, index_col=0, encoding='utf-8') "
      ],
      "execution_count": 0,
      "outputs": []
    },
    {
      "cell_type": "code",
      "metadata": {
        "id": "QhHnjV6YzL93",
        "colab_type": "code",
        "colab": {
          "base_uri": "https://localhost:8080/",
          "height": 87
        },
        "outputId": "e69ffece-107c-4740-a51e-aba748546dfb"
      },
      "source": [
        "# Then storing it in an SQL table of our in memory sqlite database\n",
        "#\n",
        "%sql DROP TABLE if EXISTS Interpol;\n",
        "%sql PERSIST Interpol;"
      ],
      "execution_count": 4,
      "outputs": [
        {
          "output_type": "stream",
          "text": [
            " * sqlite://\n",
            "Done.\n",
            " * sqlite://\n"
          ],
          "name": "stdout"
        },
        {
          "output_type": "execute_result",
          "data": {
            "text/plain": [
              "'Persisted interpol'"
            ]
          },
          "metadata": {
            "tags": []
          },
          "execution_count": 4
        }
      ]
    },
    {
      "cell_type": "code",
      "metadata": {
        "id": "gxaQvp-xzU4q",
        "colab_type": "code",
        "colab": {
          "base_uri": "https://localhost:8080/",
          "height": 160
        },
        "outputId": "f1a14c9b-61ac-4ff4-89b3-314488ab75f2"
      },
      "source": [
        "# Let's preview our Interpol table so that we can understand it\n",
        "# \n",
        "#\n",
        "%sql select * from Interpol limit 5;"
      ],
      "execution_count": 5,
      "outputs": [
        {
          "output_type": "stream",
          "text": [
            " * sqlite://\n",
            "Done.\n"
          ],
          "name": "stdout"
        },
        {
          "output_type": "execute_result",
          "data": {
            "text/html": [
              "<table>\n",
              "    <tr>\n",
              "        <th>Country</th>\n",
              "        <th>National Fugitives</th>\n",
              "        <th>Wanted Fugitives</th>\n",
              "        <th>Possible Hosted Fugitives / Captured Fugitives</th>\n",
              "        <th>Region</th>\n",
              "        <th>Flag</th>\n",
              "    </tr>\n",
              "    <tr>\n",
              "        <td>Albania</td>\n",
              "        <td>3</td>\n",
              "        <td>3</td>\n",
              "        <td>0</td>\n",
              "        <td>Europe</td>\n",
              "        <td>http://www.crwflags.com/fotw/images/a/al.gif</td>\n",
              "    </tr>\n",
              "    <tr>\n",
              "        <td>Angola</td>\n",
              "        <td>0</td>\n",
              "        <td>0</td>\n",
              "        <td>1</td>\n",
              "        <td>Northern Africa</td>\n",
              "        <td>http://www.crwflags.com/fotw/images/a/ao.gif</td>\n",
              "    </tr>\n",
              "    <tr>\n",
              "        <td>Argentina</td>\n",
              "        <td>2</td>\n",
              "        <td>2</td>\n",
              "        <td>1</td>\n",
              "        <td>South America</td>\n",
              "        <td>http://www.crwflags.com/fotw/images/a/ar.gif</td>\n",
              "    </tr>\n",
              "    <tr>\n",
              "        <td>Australia</td>\n",
              "        <td>1</td>\n",
              "        <td>1</td>\n",
              "        <td>2</td>\n",
              "        <td>Oceania</td>\n",
              "        <td>http://www.crwflags.com/fotw/images/a/au.gif</td>\n",
              "    </tr>\n",
              "    <tr>\n",
              "        <td>Austria</td>\n",
              "        <td>1</td>\n",
              "        <td>1</td>\n",
              "        <td>0</td>\n",
              "        <td>Europe</td>\n",
              "        <td>http://www.crwflags.com/fotw/images/a/at.gif</td>\n",
              "    </tr>\n",
              "</table>"
            ],
            "text/plain": [
              "[('Albania', 3, 3, 0, 'Europe', 'http://www.crwflags.com/fotw/images/a/al.gif'),\n",
              " ('Angola', 0, 0, 1, 'Northern Africa', 'http://www.crwflags.com/fotw/images/a/ao.gif'),\n",
              " ('Argentina', 2, 2, 1, 'South America', 'http://www.crwflags.com/fotw/images/a/ar.gif'),\n",
              " ('Australia', 1, 1, 2, 'Oceania', 'http://www.crwflags.com/fotw/images/a/au.gif'),\n",
              " ('Austria', 1, 1, 0, 'Europe', 'http://www.crwflags.com/fotw/images/a/at.gif')]"
            ]
          },
          "metadata": {
            "tags": []
          },
          "execution_count": 5
        }
      ]
    },
    {
      "cell_type": "code",
      "metadata": {
        "id": "O-LfePHFzcck",
        "colab_type": "code",
        "colab": {
          "base_uri": "https://localhost:8080/",
          "height": 568
        },
        "outputId": "b9891d53-e7b9-4a0f-b483-2a4fecf39de2"
      },
      "source": [
        "#Let's get the European countries without National fugitives  \n",
        "# \n",
        "%%sql\n",
        "SELECT Country FROM Interpol  WHERE \"National Fugitives\" = 0;"
      ],
      "execution_count": 6,
      "outputs": [
        {
          "output_type": "stream",
          "text": [
            " * sqlite://\n",
            "Done.\n"
          ],
          "name": "stdout"
        },
        {
          "output_type": "execute_result",
          "data": {
            "text/html": [
              "<table>\n",
              "    <tr>\n",
              "        <th>Country</th>\n",
              "    </tr>\n",
              "    <tr>\n",
              "        <td>Angola</td>\n",
              "    </tr>\n",
              "    <tr>\n",
              "        <td>Belgium</td>\n",
              "    </tr>\n",
              "    <tr>\n",
              "        <td>Bolivia</td>\n",
              "    </tr>\n",
              "    <tr>\n",
              "        <td>Botswana</td>\n",
              "    </tr>\n",
              "    <tr>\n",
              "        <td>Cambodia</td>\n",
              "    </tr>\n",
              "    <tr>\n",
              "        <td>Cayman Islands</td>\n",
              "    </tr>\n",
              "    <tr>\n",
              "        <td>Congo</td>\n",
              "    </tr>\n",
              "    <tr>\n",
              "        <td>Costa Rica</td>\n",
              "    </tr>\n",
              "    <tr>\n",
              "        <td>Curaçao</td>\n",
              "    </tr>\n",
              "    <tr>\n",
              "        <td>Denmark</td>\n",
              "    </tr>\n",
              "    <tr>\n",
              "        <td>Ecuador</td>\n",
              "    </tr>\n",
              "    <tr>\n",
              "        <td>France</td>\n",
              "    </tr>\n",
              "    <tr>\n",
              "        <td>India</td>\n",
              "    </tr>\n",
              "    <tr>\n",
              "        <td>Lesotho</td>\n",
              "    </tr>\n",
              "    <tr>\n",
              "        <td>Macedonia</td>\n",
              "    </tr>\n",
              "    <tr>\n",
              "        <td>Mali</td>\n",
              "    </tr>\n",
              "    <tr>\n",
              "        <td>Malta</td>\n",
              "    </tr>\n",
              "    <tr>\n",
              "        <td>Mozambique</td>\n",
              "    </tr>\n",
              "    <tr>\n",
              "        <td>Namibia</td>\n",
              "    </tr>\n",
              "    <tr>\n",
              "        <td>New Zealand</td>\n",
              "    </tr>\n",
              "    <tr>\n",
              "        <td>Norway</td>\n",
              "    </tr>\n",
              "    <tr>\n",
              "        <td>Panama</td>\n",
              "    </tr>\n",
              "    <tr>\n",
              "        <td>Qatar</td>\n",
              "    </tr>\n",
              "    <tr>\n",
              "        <td>Serbia</td>\n",
              "    </tr>\n",
              "    <tr>\n",
              "        <td>Tanzania</td>\n",
              "    </tr>\n",
              "    <tr>\n",
              "        <td>Turkey</td>\n",
              "    </tr>\n",
              "    <tr>\n",
              "        <td>Venezuela</td>\n",
              "    </tr>\n",
              "    <tr>\n",
              "        <td>Zimbabwe</td>\n",
              "    </tr>\n",
              "</table>"
            ],
            "text/plain": [
              "[('Angola',),\n",
              " ('Belgium',),\n",
              " ('Bolivia',),\n",
              " ('Botswana',),\n",
              " ('Cambodia',),\n",
              " ('Cayman Islands',),\n",
              " ('Congo',),\n",
              " ('Costa Rica',),\n",
              " ('Curaçao',),\n",
              " ('Denmark',),\n",
              " ('Ecuador',),\n",
              " ('France',),\n",
              " ('India',),\n",
              " ('Lesotho',),\n",
              " ('Macedonia',),\n",
              " ('Mali',),\n",
              " ('Malta',),\n",
              " ('Mozambique',),\n",
              " ('Namibia',),\n",
              " ('New Zealand',),\n",
              " ('Norway',),\n",
              " ('Panama',),\n",
              " ('Qatar',),\n",
              " ('Serbia',),\n",
              " ('Tanzania',),\n",
              " ('Turkey',),\n",
              " ('Venezuela',),\n",
              " ('Zimbabwe',)]"
            ]
          },
          "metadata": {
            "tags": []
          },
          "execution_count": 6
        }
      ]
    },
    {
      "cell_type": "code",
      "metadata": {
        "id": "ukL0I64rzfFn",
        "colab_type": "code",
        "colab": {
          "base_uri": "https://localhost:8080/",
          "height": 568
        },
        "outputId": "7f028779-6508-4fd7-9189-c8b2f3b0edd0"
      },
      "source": [
        "#Let's select the regions without National fugitives\n",
        "#\n",
        "%%sql\n",
        "SELECT Region FROM Interpol WHERE \"National Fugitives\" = 0;"
      ],
      "execution_count": 7,
      "outputs": [
        {
          "output_type": "stream",
          "text": [
            " * sqlite://\n",
            "Done.\n"
          ],
          "name": "stdout"
        },
        {
          "output_type": "execute_result",
          "data": {
            "text/html": [
              "<table>\n",
              "    <tr>\n",
              "        <th>Region</th>\n",
              "    </tr>\n",
              "    <tr>\n",
              "        <td>Northern Africa</td>\n",
              "    </tr>\n",
              "    <tr>\n",
              "        <td>Europe</td>\n",
              "    </tr>\n",
              "    <tr>\n",
              "        <td>South America</td>\n",
              "    </tr>\n",
              "    <tr>\n",
              "        <td>Southern Africa</td>\n",
              "    </tr>\n",
              "    <tr>\n",
              "        <td>Asia</td>\n",
              "    </tr>\n",
              "    <tr>\n",
              "        <td>Central America</td>\n",
              "    </tr>\n",
              "    <tr>\n",
              "        <td>Sub Saharan Africa</td>\n",
              "    </tr>\n",
              "    <tr>\n",
              "        <td>Central America</td>\n",
              "    </tr>\n",
              "    <tr>\n",
              "        <td>Central America</td>\n",
              "    </tr>\n",
              "    <tr>\n",
              "        <td>Europe</td>\n",
              "    </tr>\n",
              "    <tr>\n",
              "        <td>South America</td>\n",
              "    </tr>\n",
              "    <tr>\n",
              "        <td>Europe</td>\n",
              "    </tr>\n",
              "    <tr>\n",
              "        <td>Asia</td>\n",
              "    </tr>\n",
              "    <tr>\n",
              "        <td>Southern Africa</td>\n",
              "    </tr>\n",
              "    <tr>\n",
              "        <td>Europe</td>\n",
              "    </tr>\n",
              "    <tr>\n",
              "        <td>Sub Saharan Africa</td>\n",
              "    </tr>\n",
              "    <tr>\n",
              "        <td>Europe</td>\n",
              "    </tr>\n",
              "    <tr>\n",
              "        <td>Southern Africa</td>\n",
              "    </tr>\n",
              "    <tr>\n",
              "        <td>Southern Africa</td>\n",
              "    </tr>\n",
              "    <tr>\n",
              "        <td>Oceania</td>\n",
              "    </tr>\n",
              "    <tr>\n",
              "        <td>Europe</td>\n",
              "    </tr>\n",
              "    <tr>\n",
              "        <td>Central America</td>\n",
              "    </tr>\n",
              "    <tr>\n",
              "        <td>Asia</td>\n",
              "    </tr>\n",
              "    <tr>\n",
              "        <td>Europe</td>\n",
              "    </tr>\n",
              "    <tr>\n",
              "        <td>Sub Saharan Africa</td>\n",
              "    </tr>\n",
              "    <tr>\n",
              "        <td>Europe</td>\n",
              "    </tr>\n",
              "    <tr>\n",
              "        <td>South America</td>\n",
              "    </tr>\n",
              "    <tr>\n",
              "        <td>Southern Africa</td>\n",
              "    </tr>\n",
              "</table>"
            ],
            "text/plain": [
              "[('Northern Africa',),\n",
              " ('Europe',),\n",
              " ('South America',),\n",
              " ('Southern Africa',),\n",
              " ('Asia',),\n",
              " ('Central America',),\n",
              " ('Sub Saharan Africa',),\n",
              " ('Central America',),\n",
              " ('Central America',),\n",
              " ('Europe',),\n",
              " ('South America',),\n",
              " ('Europe',),\n",
              " ('Asia',),\n",
              " ('Southern Africa',),\n",
              " ('Europe',),\n",
              " ('Sub Saharan Africa',),\n",
              " ('Europe',),\n",
              " ('Southern Africa',),\n",
              " ('Southern Africa',),\n",
              " ('Oceania',),\n",
              " ('Europe',),\n",
              " ('Central America',),\n",
              " ('Asia',),\n",
              " ('Europe',),\n",
              " ('Sub Saharan Africa',),\n",
              " ('Europe',),\n",
              " ('South America',),\n",
              " ('Southern Africa',)]"
            ]
          },
          "metadata": {
            "tags": []
          },
          "execution_count": 7
        }
      ]
    },
    {
      "cell_type": "code",
      "metadata": {
        "id": "wQG4e7Yzzk43",
        "colab_type": "code",
        "colab": {
          "base_uri": "https://localhost:8080/",
          "height": 71
        },
        "outputId": "b310505e-f9e4-4317-a758-0b91e3728326"
      },
      "source": [
        "#let us get the Northern African countries that  \n",
        "# do not host possible fugitives or captured fugitives\n",
        "# \n",
        "%%sql\n",
        "\n",
        "SELECT * FROM Interpol\n",
        "WHERE Region = \"Northern Africa\" AND \"Possible Hosted Fugitives / Captured Fugitives\" = 0"
      ],
      "execution_count": 8,
      "outputs": [
        {
          "output_type": "stream",
          "text": [
            " * sqlite://\n",
            "Done.\n"
          ],
          "name": "stdout"
        },
        {
          "output_type": "execute_result",
          "data": {
            "text/html": [
              "<table>\n",
              "    <tr>\n",
              "        <th>Country</th>\n",
              "        <th>National Fugitives</th>\n",
              "        <th>Wanted Fugitives</th>\n",
              "        <th>Possible Hosted Fugitives / Captured Fugitives</th>\n",
              "        <th>Region</th>\n",
              "        <th>Flag</th>\n",
              "    </tr>\n",
              "</table>"
            ],
            "text/plain": [
              "[]"
            ]
          },
          "metadata": {
            "tags": []
          },
          "execution_count": 8
        }
      ]
    },
    {
      "cell_type": "markdown",
      "metadata": {
        "id": "V1lYXDmWzv5G",
        "colab_type": "text"
      },
      "source": [
        "confirming how true the answer above is"
      ]
    },
    {
      "cell_type": "code",
      "metadata": {
        "id": "V_Aeb-Dezwzr",
        "colab_type": "code",
        "colab": {
          "base_uri": "https://localhost:8080/",
          "height": 106
        },
        "outputId": "4471a2b1-1eca-482b-a089-6bc1e78e16c6"
      },
      "source": [
        "%%sql\n",
        "\n",
        "SELECT * FROM Interpol\n",
        "WHERE Region = \"Northern Africa\" "
      ],
      "execution_count": 9,
      "outputs": [
        {
          "output_type": "stream",
          "text": [
            " * sqlite://\n",
            "Done.\n"
          ],
          "name": "stdout"
        },
        {
          "output_type": "execute_result",
          "data": {
            "text/html": [
              "<table>\n",
              "    <tr>\n",
              "        <th>Country</th>\n",
              "        <th>National Fugitives</th>\n",
              "        <th>Wanted Fugitives</th>\n",
              "        <th>Possible Hosted Fugitives / Captured Fugitives</th>\n",
              "        <th>Region</th>\n",
              "        <th>Flag</th>\n",
              "    </tr>\n",
              "    <tr>\n",
              "        <td>Angola</td>\n",
              "        <td>0</td>\n",
              "        <td>0</td>\n",
              "        <td>1</td>\n",
              "        <td>Northern Africa</td>\n",
              "        <td>http://www.crwflags.com/fotw/images/a/ao.gif</td>\n",
              "    </tr>\n",
              "    <tr>\n",
              "        <td>Morocco</td>\n",
              "        <td>2</td>\n",
              "        <td>0</td>\n",
              "        <td>3</td>\n",
              "        <td>Northern Africa</td>\n",
              "        <td>http://www.crwflags.com/fotw/images/m/ma.gif</td>\n",
              "    </tr>\n",
              "</table>"
            ],
            "text/plain": [
              "[('Angola', 0, 0, 1, 'Northern Africa', 'http://www.crwflags.com/fotw/images/a/ao.gif'),\n",
              " ('Morocco', 2, 0, 3, 'Northern Africa', 'http://www.crwflags.com/fotw/images/m/ma.gif')]"
            ]
          },
          "metadata": {
            "tags": []
          },
          "execution_count": 9
        }
      ]
    },
    {
      "cell_type": "code",
      "metadata": {
        "id": "xOwi3_Jxz3Yd",
        "colab_type": "code",
        "colab": {
          "base_uri": "https://localhost:8080/",
          "height": 408
        },
        "outputId": "04e2df98-3ff8-490c-e455-2941d9536511"
      },
      "source": [
        "#let us get the countries without a National fugitive and a Wanted fugitive\n",
        "#\n",
        "%%sql\n",
        "SELECT Country FROM Interpol\n",
        "WHERE \"National Fugitives\" = 0 AND \"Wanted Fugitives\" = 0"
      ],
      "execution_count": 10,
      "outputs": [
        {
          "output_type": "stream",
          "text": [
            " * sqlite://\n",
            "Done.\n"
          ],
          "name": "stdout"
        },
        {
          "output_type": "execute_result",
          "data": {
            "text/html": [
              "<table>\n",
              "    <tr>\n",
              "        <th>Country</th>\n",
              "    </tr>\n",
              "    <tr>\n",
              "        <td>Angola</td>\n",
              "    </tr>\n",
              "    <tr>\n",
              "        <td>Bolivia</td>\n",
              "    </tr>\n",
              "    <tr>\n",
              "        <td>Cambodia</td>\n",
              "    </tr>\n",
              "    <tr>\n",
              "        <td>Cayman Islands</td>\n",
              "    </tr>\n",
              "    <tr>\n",
              "        <td>Congo</td>\n",
              "    </tr>\n",
              "    <tr>\n",
              "        <td>Ecuador</td>\n",
              "    </tr>\n",
              "    <tr>\n",
              "        <td>France</td>\n",
              "    </tr>\n",
              "    <tr>\n",
              "        <td>India</td>\n",
              "    </tr>\n",
              "    <tr>\n",
              "        <td>Lesotho</td>\n",
              "    </tr>\n",
              "    <tr>\n",
              "        <td>Macedonia</td>\n",
              "    </tr>\n",
              "    <tr>\n",
              "        <td>Malta</td>\n",
              "    </tr>\n",
              "    <tr>\n",
              "        <td>Mozambique</td>\n",
              "    </tr>\n",
              "    <tr>\n",
              "        <td>Namibia</td>\n",
              "    </tr>\n",
              "    <tr>\n",
              "        <td>New Zealand</td>\n",
              "    </tr>\n",
              "    <tr>\n",
              "        <td>Panama</td>\n",
              "    </tr>\n",
              "    <tr>\n",
              "        <td>Qatar</td>\n",
              "    </tr>\n",
              "    <tr>\n",
              "        <td>Serbia</td>\n",
              "    </tr>\n",
              "    <tr>\n",
              "        <td>Turkey</td>\n",
              "    </tr>\n",
              "    <tr>\n",
              "        <td>Zimbabwe</td>\n",
              "    </tr>\n",
              "</table>"
            ],
            "text/plain": [
              "[('Angola',),\n",
              " ('Bolivia',),\n",
              " ('Cambodia',),\n",
              " ('Cayman Islands',),\n",
              " ('Congo',),\n",
              " ('Ecuador',),\n",
              " ('France',),\n",
              " ('India',),\n",
              " ('Lesotho',),\n",
              " ('Macedonia',),\n",
              " ('Malta',),\n",
              " ('Mozambique',),\n",
              " ('Namibia',),\n",
              " ('New Zealand',),\n",
              " ('Panama',),\n",
              " ('Qatar',),\n",
              " ('Serbia',),\n",
              " ('Turkey',),\n",
              " ('Zimbabwe',)]"
            ]
          },
          "metadata": {
            "tags": []
          },
          "execution_count": 10
        }
      ]
    },
    {
      "cell_type": "code",
      "metadata": {
        "id": "iog4d6Rwz-22",
        "colab_type": "code",
        "colab": {
          "base_uri": "https://localhost:8080/",
          "height": 124
        },
        "outputId": "b144bdfd-8058-44db-ceb5-62aadcdb7006"
      },
      "source": [
        "#which european countries have 3 National Fugitives\n",
        "#\n",
        "%%sql \n",
        "SELECT Country FROM Interpol\n",
        "WHERE Region = \"Europe\" AND \"National Fugitives\" = 3"
      ],
      "execution_count": 11,
      "outputs": [
        {
          "output_type": "stream",
          "text": [
            " * sqlite://\n",
            "Done.\n"
          ],
          "name": "stdout"
        },
        {
          "output_type": "execute_result",
          "data": {
            "text/html": [
              "<table>\n",
              "    <tr>\n",
              "        <th>Country</th>\n",
              "    </tr>\n",
              "    <tr>\n",
              "        <td>Albania</td>\n",
              "    </tr>\n",
              "    <tr>\n",
              "        <td>Czech Republic</td>\n",
              "    </tr>\n",
              "    <tr>\n",
              "        <td>Montenegro</td>\n",
              "    </tr>\n",
              "</table>"
            ],
            "text/plain": [
              "[('Albania',), ('Czech Republic',), ('Montenegro',)]"
            ]
          },
          "metadata": {
            "tags": []
          },
          "execution_count": 11
        }
      ]
    },
    {
      "cell_type": "code",
      "metadata": {
        "id": "RwaXZ3RF0Yd3",
        "colab_type": "code",
        "colab": {}
      },
      "source": [
        ""
      ],
      "execution_count": 0,
      "outputs": []
    }
  ]
}